{
 "cells": [
  {
   "cell_type": "code",
   "execution_count": 1,
   "id": "3ad41f70",
   "metadata": {},
   "outputs": [],
   "source": [
    "import mne\n",
    "from pymatreader import read_mat"
   ]
  },
  {
   "cell_type": "code",
   "execution_count": 2,
   "id": "685dd414",
   "metadata": {},
   "outputs": [],
   "source": [
    "import numpy as np"
   ]
  },
  {
   "cell_type": "code",
   "execution_count": 3,
   "id": "27a139d5",
   "metadata": {},
   "outputs": [],
   "source": [
    "from pyod.models import hbos, abod"
   ]
  },
  {
   "cell_type": "code",
   "execution_count": 4,
   "id": "db38d954",
   "metadata": {},
   "outputs": [
    {
     "name": "stderr",
     "output_type": "stream",
     "text": [
      "C:\\Users\\coaka\\anaconda3\\lib\\site-packages\\paramiko\\transport.py:219: CryptographyDeprecationWarning: Blowfish has been deprecated\n",
      "  \"class\": algorithms.Blowfish,\n"
     ]
    }
   ],
   "source": [
    "data_folder = mne.datasets.sample.data_path('C:\\Учеба\\Аспирантура\\Кандидатка\\matlab_stuff')\n",
    "data_raw_file = (data_folder / 'data.mat')\n",
    "data = read_mat(data_raw_file)"
   ]
  },
  {
   "cell_type": "markdown",
   "id": "54652ec2",
   "metadata": {},
   "source": [
    "Для удаления выбросов воспользуемся специальной библиотекой pyod. Pyod содержит в себе несколько десятков моделей,\n",
    "которые используются для удаления выбросов, начиная от статистических методов и заканчивая сложными моделями DeepLearning."
   ]
  },
  {
   "cell_type": "markdown",
   "id": "f59b760b",
   "metadata": {},
   "source": [
    "Для нашего случая удобно воспользоваться моделью из этой библиотеки под названием ABOD. ABOD(Angle-based outlier detection) - модель, базирующася на выделении выбросов по вычислению углу элемента данных, образованному вместе с соседними элементами.\n",
    "В случае получения экстремального значения угла данные помечаются как выброс."
   ]
  },
  {
   "cell_type": "markdown",
   "id": "d4a3a298",
   "metadata": {},
   "source": [
    "Для примера рассмотрим триалы первого подопытного. "
   ]
  },
  {
   "cell_type": "code",
   "execution_count": 26,
   "id": "0049bbbf",
   "metadata": {},
   "outputs": [
    {
     "data": {
      "text/plain": [
       "ABOD(contamination=0.05, method='default', n_neighbors=10)"
      ]
     },
     "execution_count": 26,
     "metadata": {},
     "output_type": "execute_result"
    }
   ],
   "source": [
    "trials_variance = list()\n",
    "first_trial = data['data'][0]['trial']\n",
    "for frame_trial in first_trial:\n",
    "    trial_var_per_chanel = frame_trial.var(1)\n",
    "    trials_variance.append(trial_var_per_chanel)\n",
    "\n",
    "clf = abod.ABOD(0.05, 10, 'default')\n",
    "clf.fit(trials_variance)"
   ]
  },
  {
   "cell_type": "code",
   "execution_count": 27,
   "id": "d18c80b2",
   "metadata": {},
   "outputs": [
    {
     "name": "stdout",
     "output_type": "stream",
     "text": [
      "[104, 166, 167, 200, 225, 261, 313, 318, 325, 333, 341, 349, 357, 359, 366, 369, 383, 386, 392, 399]\n"
     ]
    }
   ],
   "source": [
    "outliers_indices = list()\n",
    "for i in range(clf.labels_.shape[0]):\n",
    "    if clf.labels_[i] == 1:\n",
    "        outliers_indices.append(i+1)\n",
    "print(outliers_indices)"
   ]
  },
  {
   "cell_type": "code",
   "execution_count": 28,
   "id": "656f43e9",
   "metadata": {},
   "outputs": [
    {
     "name": "stdout",
     "output_type": "stream",
     "text": [
      "20\n"
     ]
    }
   ],
   "source": [
    "print(len(outliers_indices))"
   ]
  },
  {
   "cell_type": "code",
   "execution_count": 53,
   "id": "98b04f52",
   "metadata": {},
   "outputs": [],
   "source": [
    "trials_variance_second = list()\n",
    "second_trial = data['data'][1]['trial']\n",
    "for frame_trial in second_trial:\n",
    "    trial_var_per_chanel = frame_trial.var(1)\n",
    "    trials_variance_second.append(trial_var_per_chanel)"
   ]
  },
  {
   "cell_type": "code",
   "execution_count": 54,
   "id": "14b4b75d",
   "metadata": {},
   "outputs": [],
   "source": [
    "second_outliers = clf.predict(trials_variance_second)"
   ]
  },
  {
   "cell_type": "code",
   "execution_count": 55,
   "id": "0cea8532",
   "metadata": {},
   "outputs": [
    {
     "name": "stdout",
     "output_type": "stream",
     "text": [
      "[55, 58, 97, 103, 107, 126, 137, 162, 176, 182, 184, 203, 204, 210, 236, 237, 256, 286, 296, 298, 317, 318, 319, 320, 336, 337, 338, 358, 359, 366, 380, 381]\n"
     ]
    }
   ],
   "source": [
    "outliers_indices = list()\n",
    "for i in range(second_outliers.shape[0]):\n",
    "    if second_outliers[i] == 1:\n",
    "        outliers_indices.append(i+1)\n",
    "print(outliers_indices)"
   ]
  },
  {
   "cell_type": "markdown",
   "id": "f57c5fb8",
   "metadata": {},
   "source": [
    "Если сравнить данные с теми, что были получены человеком мы увидим довольно высокий процент совпадений"
   ]
  },
  {
   "cell_type": "code",
   "execution_count": null,
   "id": "183b52f2",
   "metadata": {},
   "outputs": [],
   "source": []
  }
 ],
 "metadata": {
  "kernelspec": {
   "display_name": "Python 3 (ipykernel)",
   "language": "python",
   "name": "python3"
  },
  "language_info": {
   "codemirror_mode": {
    "name": "ipython",
    "version": 3
   },
   "file_extension": ".py",
   "mimetype": "text/x-python",
   "name": "python",
   "nbconvert_exporter": "python",
   "pygments_lexer": "ipython3",
   "version": "3.9.13"
  }
 },
 "nbformat": 4,
 "nbformat_minor": 5
}
